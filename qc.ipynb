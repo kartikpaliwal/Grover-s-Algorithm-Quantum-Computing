{
 "cells": [
  {
   "cell_type": "markdown",
   "metadata": {},
   "source": [
    "The Grover’s search algorithm searches the target value from a set by calculating the mean amplitude and the Grover’s amplitude. The plot of the graph is calculated from the amplitudes derived from the Grover’s algorithm. "
   ]
  },
  {
   "cell_type": "code",
   "execution_count": 1,
   "metadata": {},
   "outputs": [],
   "source": [
    "import matplotlib.pyplot as plt\n",
    "import numpy as np\n",
    "import string\n",
    "import hashlib\n",
    "from math import sqrt, pi\n",
    "from collections import OrderedDict\n",
    "from statistics import mean\n",
    "  \n",
    "def ShowGraph(amplitude_value, n):\n",
    "    y = np.arange(n)\n",
    "    plt.bar(y, amplitude_value.values(), align='center', color='b')\n",
    "    plt.xticks(y, amplitude_value.keys())\n",
    "    plt.ylabel('Amplitude Value')\n",
    "    plt.title('Grovers Algorithm')\n",
    "    plt.show()\n",
    "    "
   ]
  },
  {
   "cell_type": "markdown",
   "metadata": {},
   "source": [
    " GetOracle method takes the xvalue and returns the hex digest of the x value. This method is referred to as the Oracle function."
   ]
  },
  {
   "cell_type": "code",
   "execution_count": 2,
   "metadata": {},
   "outputs": [],
   "source": [
    "def GetOracle(x):\n",
    "    return hashlib.sha256(bytes(x, 'utf-8')).hexdigest()\n"
   ]
  },
  {
   "cell_type": "markdown",
   "metadata": {},
   "source": [
    "Execute Grover’s algorithm takes input target, objects, nvalue and rounds.  The amplitude is retrieved based on the 1/ square root of the nvalue."
   ]
  },
  {
   "cell_type": "code",
   "execution_count": 3,
   "metadata": {},
   "outputs": [],
   "source": [
    "def ExecuteGrover(target, objects, nvalue, rounds):\n",
    "    y_pos = np.arange(nvalue)\n",
    "    amplitude = OrderedDict.fromkeys(objects, 1/sqrt(nvalue))\n",
    "  \n",
    "    for i in range(0, rounds, 2):\n",
    "        for k, v in amplitude.items():\n",
    "            if GetOracle(k) == target:\n",
    "                amplitude[k] = v * -1\n",
    "  \n",
    "        average = mean(amplitude.values())\n",
    "        for k, v in amplitude.items():\n",
    "            if GetOracle(k) == target:\n",
    "                amplitude[k] = (2 * average) + abs(v)\n",
    "                continue\n",
    "            amplitude[k] = v-(2*(v-average))\n",
    "    return amplitude"
   ]
  },
  {
   "cell_type": "markdown",
   "metadata": {},
   "source": [
    "The target of the algorithm is to search for '23' in the set of objects {'78','4', '5', '35', '7','9','11','97','23','45','76'}.  The amplitude is searched from the dictionary based on the value 1/ square root of the length of the set (11)."
   ]
  },
  {
   "cell_type": "code",
   "execution_count": 4,
   "metadata": {},
   "outputs": [],
   "source": [
    "target_algorithm = '23'\n",
    "objects_grover = ('78','4', '5', '35', '7','9','11','97','23','45','76')\n",
    "number = len(objects_grover)\n",
    "amplitude_grover = OrderedDict.fromkeys(objects_grover, 1/sqrt(number))\n"
   ]
  },
  {
   "cell_type": "markdown",
   "metadata": {},
   "source": [
    "The mean of the amplitudes is calculated and printed.  The Grover amplitude is calculated based on the average amplitude and the Grover’s operator. The Grover’s operator is  defined as (2|xi> <xi| – average_amplitude) * Oracle function"
   ]
  },
  {
   "cell_type": "code",
   "execution_count": 5,
   "metadata": {},
   "outputs": [
    {
     "name": "stdout",
     "output_type": "stream",
     "text": [
      "OrderedDict([('78', 0.30151134457776363), ('4', 0.30151134457776363), ('5', 0.30151134457776363), ('35', 0.30151134457776363), ('7', 0.30151134457776363), ('9', 0.30151134457776363), ('11', 0.30151134457776363), ('97', 0.30151134457776363), ('23', -0.30151134457776363), ('45', 0.30151134457776363), ('76', 0.30151134457776363)])\n",
      "Mean is 0.24669110010907933\n",
      "OrderedDict([('78', 0.19187085564039502), ('4', 0.19187085564039502), ('5', 0.19187085564039502), ('35', 0.19187085564039502), ('7', 0.19187085564039502), ('9', 0.19187085564039502), ('11', 0.19187085564039502), ('97', 0.19187085564039502), ('23', 0.7948935447959222), ('45', 0.19187085564039502), ('76', 0.19187085564039502)])\n"
     ]
    }
   ],
   "source": [
    "amplitude_grover[target_algorithm] = amplitude_grover[target_algorithm] * -1\n",
    "print(amplitude_grover)\n",
    "average_grover = mean(amplitude_grover.values())\n",
    "print(\"Mean is {}\".format(average_grover))\n",
    "for k, v in amplitude_grover.items():\n",
    "    if k == target_algorithm:\n",
    "        amplitude_grover[k] = (2 * average_grover) + abs(v)\n",
    "        continue\n",
    "    amplitude_grover[k] = v-(2*(v-average_grover))\n",
    "print(amplitude_grover)"
   ]
  },
  {
   "cell_type": "markdown",
   "metadata": {},
   "source": [
    "The amplitudes are plotted after running the Grover’s algorithm. The target value '23' has the highest amplitude 0.79."
   ]
  },
  {
   "cell_type": "code",
   "execution_count": 6,
   "metadata": {},
   "outputs": [
    {
     "name": "stdout",
     "output_type": "stream",
     "text": [
      "number of rounds are 4\n",
      "The plot shows the target value with the highest amplitude.\n"
     ]
    },
    {
     "data": {
      "image/png": "[encoded data removed]",
      "text/plain": [
       "<Figure size 432x288 with 1 Axes>"
      ]
     },
     "metadata": {
      "needs_background": "light"
     },
     "output_type": "display_data"
    }
   ],
   "source": [
    "needle_value = \"2d711642b726b04401627ca9fbac32f5c8530fb1903cc4db02258717921a4881\"\n",
    "haystack_value = string.ascii_lowercase\n",
    "num = len(haystack_value)\n",
    "num_rounds = int((pi / 4) * sqrt(num))\n",
    "print(\"number of rounds are {}\".format(num_rounds))\n",
    "print(\"The plot shows the target value with the highest amplitude.\")\n",
    "ShowGraph(ExecuteGrover(needle_value, haystack_value, num, num_rounds), num)"
   ]
  },
  {
   "cell_type": "raw",
   "metadata": {},
   "source": [
    "END-------------------"
   ]
  }
 ],
 "metadata": {
  "kernelspec": {
   "display_name": "Python 3",
   "language": "python",
   "name": "python3"
  },
  "language_info": {
   "codemirror_mode": {
    "name": "ipython",
    "version": 3
   },
   "file_extension": ".py",
   "mimetype": "text/x-python",
   "name": "python",
   "nbconvert_exporter": "python",
   "pygments_lexer": "ipython3",
   "version": "3.7.3"
  }
 },
 "nbformat": 4,
 "nbformat_minor": 2
}
